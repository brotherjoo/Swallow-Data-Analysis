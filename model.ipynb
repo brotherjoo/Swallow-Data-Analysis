{
 "cells": [
  {
   "cell_type": "code",
   "execution_count": 1,
   "metadata": {},
   "outputs": [
    {
     "name": "stderr",
     "output_type": "stream",
     "text": [
      "2024-08-23 20:43:50.347007: I tensorflow/core/platform/cpu_feature_guard.cc:182] This TensorFlow binary is optimized to use available CPU instructions in performance-critical operations.\n",
      "To enable the following instructions: SSE4.1 SSE4.2, in other operations, rebuild TensorFlow with the appropriate compiler flags.\n"
     ]
    }
   ],
   "source": [
    "import numpy as np\n",
    "import pandas as pd\n",
    "import tensorflow as tf"
   ]
  },
  {
   "cell_type": "code",
   "execution_count": 2,
   "metadata": {},
   "outputs": [
    {
     "data": {
      "text/html": [
       "<div>\n",
       "<style scoped>\n",
       "    .dataframe tbody tr th:only-of-type {\n",
       "        vertical-align: middle;\n",
       "    }\n",
       "\n",
       "    .dataframe tbody tr th {\n",
       "        vertical-align: top;\n",
       "    }\n",
       "\n",
       "    .dataframe thead th {\n",
       "        text-align: right;\n",
       "    }\n",
       "</style>\n",
       "<table border=\"1\" class=\"dataframe\">\n",
       "  <thead>\n",
       "    <tr style=\"text-align: right;\">\n",
       "      <th></th>\n",
       "      <th>First</th>\n",
       "      <th>Quality_1</th>\n",
       "      <th>Second</th>\n",
       "      <th>Quality_2</th>\n",
       "      <th>Type</th>\n",
       "      <th>Longitude</th>\n",
       "      <th>Latitude</th>\n",
       "      <th>ElevAngle</th>\n",
       "    </tr>\n",
       "    <tr>\n",
       "      <th>Index</th>\n",
       "      <th></th>\n",
       "      <th></th>\n",
       "      <th></th>\n",
       "      <th></th>\n",
       "      <th></th>\n",
       "      <th></th>\n",
       "      <th></th>\n",
       "      <th></th>\n",
       "    </tr>\n",
       "  </thead>\n",
       "  <tbody>\n",
       "    <tr>\n",
       "      <th>0</th>\n",
       "      <td>2023-06-08 10:53:48</td>\n",
       "      <td>9</td>\n",
       "      <td>2023-06-08 20:18:48</td>\n",
       "      <td>9</td>\n",
       "      <td>Midnight</td>\n",
       "      <td>125.690</td>\n",
       "      <td>26.006</td>\n",
       "      <td>-6.0</td>\n",
       "    </tr>\n",
       "    <tr>\n",
       "      <th>1</th>\n",
       "      <td>2023-06-08 20:18:48</td>\n",
       "      <td>9</td>\n",
       "      <td>2023-06-09 10:49:48</td>\n",
       "      <td>9</td>\n",
       "      <td>Midday</td>\n",
       "      <td>126.214</td>\n",
       "      <td>25.105</td>\n",
       "      <td>-6.0</td>\n",
       "    </tr>\n",
       "    <tr>\n",
       "      <th>2</th>\n",
       "      <td>2023-06-09 10:49:48</td>\n",
       "      <td>9</td>\n",
       "      <td>2023-06-09 20:17:48</td>\n",
       "      <td>9</td>\n",
       "      <td>Midnight</td>\n",
       "      <td>126.363</td>\n",
       "      <td>25.306</td>\n",
       "      <td>-6.0</td>\n",
       "    </tr>\n",
       "    <tr>\n",
       "      <th>3</th>\n",
       "      <td>2023-06-09 20:17:48</td>\n",
       "      <td>9</td>\n",
       "      <td>2023-06-10 10:49:48</td>\n",
       "      <td>9</td>\n",
       "      <td>Midday</td>\n",
       "      <td>126.388</td>\n",
       "      <td>25.223</td>\n",
       "      <td>-6.0</td>\n",
       "    </tr>\n",
       "    <tr>\n",
       "      <th>4</th>\n",
       "      <td>2023-06-10 10:49:48</td>\n",
       "      <td>9</td>\n",
       "      <td>2023-06-10 20:28:48</td>\n",
       "      <td>9</td>\n",
       "      <td>Midnight</td>\n",
       "      <td>125.038</td>\n",
       "      <td>22.915</td>\n",
       "      <td>-6.0</td>\n",
       "    </tr>\n",
       "  </tbody>\n",
       "</table>\n",
       "</div>"
      ],
      "text/plain": [
       "                     First  Quality_1               Second  Quality_2  \\\n",
       "Index                                                                   \n",
       "0      2023-06-08 10:53:48          9  2023-06-08 20:18:48          9   \n",
       "1      2023-06-08 20:18:48          9  2023-06-09 10:49:48          9   \n",
       "2      2023-06-09 10:49:48          9  2023-06-09 20:17:48          9   \n",
       "3      2023-06-09 20:17:48          9  2023-06-10 10:49:48          9   \n",
       "4      2023-06-10 10:49:48          9  2023-06-10 20:28:48          9   \n",
       "\n",
       "           Type  Longitude  Latitude  ElevAngle  \n",
       "Index                                            \n",
       "0      Midnight    125.690    26.006       -6.0  \n",
       "1        Midday    126.214    25.105       -6.0  \n",
       "2      Midnight    126.363    25.306       -6.0  \n",
       "3        Midday    126.388    25.223       -6.0  \n",
       "4      Midnight    125.038    22.915       -6.0  "
      ]
     },
     "execution_count": 2,
     "metadata": {},
     "output_type": "execute_result"
    }
   ],
   "source": [
    "swallow_o_1 = pd.read_csv(\"./data/sample_data/CN187_22524_105015_e-6.0_auto.txt\", sep=\"\\t\", encoding='cp949', index_col=0)\n",
    "swallow_o_1.head()"
   ]
  },
  {
   "cell_type": "code",
   "execution_count": 4,
   "metadata": {},
   "outputs": [
    {
     "data": {
      "text/html": [
       "<div>\n",
       "<style scoped>\n",
       "    .dataframe tbody tr th:only-of-type {\n",
       "        vertical-align: middle;\n",
       "    }\n",
       "\n",
       "    .dataframe tbody tr th {\n",
       "        vertical-align: top;\n",
       "    }\n",
       "\n",
       "    .dataframe thead th {\n",
       "        text-align: right;\n",
       "    }\n",
       "</style>\n",
       "<table border=\"1\" class=\"dataframe\">\n",
       "  <thead>\n",
       "    <tr style=\"text-align: right;\">\n",
       "      <th></th>\n",
       "      <th>First</th>\n",
       "      <th>Quality_1</th>\n",
       "      <th>Second</th>\n",
       "      <th>Quality_2</th>\n",
       "      <th>Type</th>\n",
       "      <th>Longitude</th>\n",
       "      <th>Latitude</th>\n",
       "      <th>ElevAngle</th>\n",
       "    </tr>\n",
       "    <tr>\n",
       "      <th>Index</th>\n",
       "      <th></th>\n",
       "      <th></th>\n",
       "      <th></th>\n",
       "      <th></th>\n",
       "      <th></th>\n",
       "      <th></th>\n",
       "      <th></th>\n",
       "      <th></th>\n",
       "    </tr>\n",
       "  </thead>\n",
       "  <tbody>\n",
       "    <tr>\n",
       "      <th>0</th>\n",
       "      <td>2023-06-09 02:18:53</td>\n",
       "      <td>9</td>\n",
       "      <td>2023-06-09 08:20:53</td>\n",
       "      <td>9</td>\n",
       "      <td>Midnight</td>\n",
       "      <td>-80.178</td>\n",
       "      <td>51.083</td>\n",
       "      <td>-6.0</td>\n",
       "    </tr>\n",
       "    <tr>\n",
       "      <th>1</th>\n",
       "      <td>2023-06-09 08:20:53</td>\n",
       "      <td>9</td>\n",
       "      <td>2023-06-10 10:43:53</td>\n",
       "      <td>9</td>\n",
       "      <td>Midday</td>\n",
       "      <td>36.730</td>\n",
       "      <td>-72.258</td>\n",
       "      <td>-6.0</td>\n",
       "    </tr>\n",
       "    <tr>\n",
       "      <th>2</th>\n",
       "      <td>2023-06-10 10:43:53</td>\n",
       "      <td>9</td>\n",
       "      <td>2023-06-10 20:08:53</td>\n",
       "      <td>9</td>\n",
       "      <td>Midnight</td>\n",
       "      <td>128.267</td>\n",
       "      <td>25.832</td>\n",
       "      <td>-6.0</td>\n",
       "    </tr>\n",
       "    <tr>\n",
       "      <th>3</th>\n",
       "      <td>2023-06-10 20:08:53</td>\n",
       "      <td>9</td>\n",
       "      <td>2023-06-11 10:48:53</td>\n",
       "      <td>9</td>\n",
       "      <td>Midday</td>\n",
       "      <td>127.667</td>\n",
       "      <td>26.747</td>\n",
       "      <td>-6.0</td>\n",
       "    </tr>\n",
       "    <tr>\n",
       "      <th>4</th>\n",
       "      <td>2023-06-11 10:48:53</td>\n",
       "      <td>9</td>\n",
       "      <td>2023-06-11 20:02:53</td>\n",
       "      <td>9</td>\n",
       "      <td>Midnight</td>\n",
       "      <td>128.442</td>\n",
       "      <td>27.907</td>\n",
       "      <td>-6.0</td>\n",
       "    </tr>\n",
       "  </tbody>\n",
       "</table>\n",
       "</div>"
      ],
      "text/plain": [
       "                     First  Quality_1               Second  Quality_2  \\\n",
       "Index                                                                   \n",
       "0      2023-06-09 02:18:53          9  2023-06-09 08:20:53          9   \n",
       "1      2023-06-09 08:20:53          9  2023-06-10 10:43:53          9   \n",
       "2      2023-06-10 10:43:53          9  2023-06-10 20:08:53          9   \n",
       "3      2023-06-10 20:08:53          9  2023-06-11 10:48:53          9   \n",
       "4      2023-06-11 10:48:53          9  2023-06-11 20:02:53          9   \n",
       "\n",
       "           Type  Longitude  Latitude  ElevAngle  \n",
       "Index                                            \n",
       "0      Midnight    -80.178    51.083       -6.0  \n",
       "1        Midday     36.730   -72.258       -6.0  \n",
       "2      Midnight    128.267    25.832       -6.0  \n",
       "3        Midday    127.667    26.747       -6.0  \n",
       "4      Midnight    128.442    27.907       -6.0  "
      ]
     },
     "execution_count": 4,
     "metadata": {},
     "output_type": "execute_result"
    }
   ],
   "source": [
    "swallow_o_2 = pd.read_csv(\"./data/sample_data/CN189_20524_145410driftadj_e-6.0_auto.txt\", sep='\\t', encoding='cp949', index_col=0)\n",
    "swallow_o_2.head()"
   ]
  },
  {
   "cell_type": "code",
   "execution_count": 5,
   "metadata": {},
   "outputs": [
    {
     "data": {
      "text/plain": [
       "(693, 8)"
      ]
     },
     "execution_count": 5,
     "metadata": {},
     "output_type": "execute_result"
    }
   ],
   "source": [
    "swallow_o_1.shape"
   ]
  },
  {
   "cell_type": "code",
   "execution_count": 6,
   "metadata": {},
   "outputs": [
    {
     "data": {
      "text/plain": [
       "(692, 8)"
      ]
     },
     "execution_count": 6,
     "metadata": {},
     "output_type": "execute_result"
    }
   ],
   "source": [
    "swallow_o_2.shape"
   ]
  },
  {
   "cell_type": "code",
   "execution_count": 8,
   "metadata": {},
   "outputs": [
    {
     "data": {
      "text/plain": [
       "(1385, 8)"
      ]
     },
     "execution_count": 8,
     "metadata": {},
     "output_type": "execute_result"
    }
   ],
   "source": [
    "swllow_o = pd.concat([swallow_o_1, swallow_o_2])\n",
    "swllow_o.shape"
   ]
  },
  {
   "cell_type": "code",
   "execution_count": 9,
   "metadata": {},
   "outputs": [
    {
     "data": {
      "text/html": [
       "<div>\n",
       "<style scoped>\n",
       "    .dataframe tbody tr th:only-of-type {\n",
       "        vertical-align: middle;\n",
       "    }\n",
       "\n",
       "    .dataframe tbody tr th {\n",
       "        vertical-align: top;\n",
       "    }\n",
       "\n",
       "    .dataframe thead th {\n",
       "        text-align: right;\n",
       "    }\n",
       "</style>\n",
       "<table border=\"1\" class=\"dataframe\">\n",
       "  <thead>\n",
       "    <tr style=\"text-align: right;\">\n",
       "      <th></th>\n",
       "      <th>First</th>\n",
       "      <th>Quality_1</th>\n",
       "      <th>Second</th>\n",
       "      <th>Quality_2</th>\n",
       "      <th>Type</th>\n",
       "      <th>Longitude</th>\n",
       "      <th>Latitude</th>\n",
       "      <th>ElevAngle</th>\n",
       "    </tr>\n",
       "    <tr>\n",
       "      <th>Index</th>\n",
       "      <th></th>\n",
       "      <th></th>\n",
       "      <th></th>\n",
       "      <th></th>\n",
       "      <th></th>\n",
       "      <th></th>\n",
       "      <th></th>\n",
       "      <th></th>\n",
       "    </tr>\n",
       "  </thead>\n",
       "  <tbody>\n",
       "    <tr>\n",
       "      <th>0</th>\n",
       "      <td>2023-06-08 10:53:48</td>\n",
       "      <td>9</td>\n",
       "      <td>2023-06-08 20:18:48</td>\n",
       "      <td>9</td>\n",
       "      <td>Midnight</td>\n",
       "      <td>125.690</td>\n",
       "      <td>26.006</td>\n",
       "      <td>-6.0</td>\n",
       "    </tr>\n",
       "    <tr>\n",
       "      <th>1</th>\n",
       "      <td>2023-06-08 20:18:48</td>\n",
       "      <td>9</td>\n",
       "      <td>2023-06-09 10:49:48</td>\n",
       "      <td>9</td>\n",
       "      <td>Midday</td>\n",
       "      <td>126.214</td>\n",
       "      <td>25.105</td>\n",
       "      <td>-6.0</td>\n",
       "    </tr>\n",
       "    <tr>\n",
       "      <th>2</th>\n",
       "      <td>2023-06-09 10:49:48</td>\n",
       "      <td>9</td>\n",
       "      <td>2023-06-09 20:17:48</td>\n",
       "      <td>9</td>\n",
       "      <td>Midnight</td>\n",
       "      <td>126.363</td>\n",
       "      <td>25.306</td>\n",
       "      <td>-6.0</td>\n",
       "    </tr>\n",
       "    <tr>\n",
       "      <th>3</th>\n",
       "      <td>2023-06-09 20:17:48</td>\n",
       "      <td>9</td>\n",
       "      <td>2023-06-10 10:49:48</td>\n",
       "      <td>9</td>\n",
       "      <td>Midday</td>\n",
       "      <td>126.388</td>\n",
       "      <td>25.223</td>\n",
       "      <td>-6.0</td>\n",
       "    </tr>\n",
       "    <tr>\n",
       "      <th>4</th>\n",
       "      <td>2023-06-10 10:49:48</td>\n",
       "      <td>9</td>\n",
       "      <td>2023-06-10 20:28:48</td>\n",
       "      <td>9</td>\n",
       "      <td>Midnight</td>\n",
       "      <td>125.038</td>\n",
       "      <td>22.915</td>\n",
       "      <td>-6.0</td>\n",
       "    </tr>\n",
       "  </tbody>\n",
       "</table>\n",
       "</div>"
      ],
      "text/plain": [
       "                     First  Quality_1               Second  Quality_2  \\\n",
       "Index                                                                   \n",
       "0      2023-06-08 10:53:48          9  2023-06-08 20:18:48          9   \n",
       "1      2023-06-08 20:18:48          9  2023-06-09 10:49:48          9   \n",
       "2      2023-06-09 10:49:48          9  2023-06-09 20:17:48          9   \n",
       "3      2023-06-09 20:17:48          9  2023-06-10 10:49:48          9   \n",
       "4      2023-06-10 10:49:48          9  2023-06-10 20:28:48          9   \n",
       "\n",
       "           Type  Longitude  Latitude  ElevAngle  \n",
       "Index                                            \n",
       "0      Midnight    125.690    26.006       -6.0  \n",
       "1        Midday    126.214    25.105       -6.0  \n",
       "2      Midnight    126.363    25.306       -6.0  \n",
       "3        Midday    126.388    25.223       -6.0  \n",
       "4      Midnight    125.038    22.915       -6.0  "
      ]
     },
     "execution_count": 9,
     "metadata": {},
     "output_type": "execute_result"
    }
   ],
   "source": [
    "swllow_o.head()"
   ]
  },
  {
   "cell_type": "code",
   "execution_count": null,
   "metadata": {},
   "outputs": [],
   "source": []
  }
 ],
 "metadata": {
  "kernelspec": {
   "display_name": "Python 3",
   "language": "python",
   "name": "python3"
  },
  "language_info": {
   "codemirror_mode": {
    "name": "ipython",
    "version": 3
   },
   "file_extension": ".py",
   "mimetype": "text/x-python",
   "name": "python",
   "nbconvert_exporter": "python",
   "pygments_lexer": "ipython3",
   "version": "3.11.5"
  }
 },
 "nbformat": 4,
 "nbformat_minor": 2
}
